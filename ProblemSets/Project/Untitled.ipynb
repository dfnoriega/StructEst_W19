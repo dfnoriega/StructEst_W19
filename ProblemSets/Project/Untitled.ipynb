{
 "cells": [
  {
   "cell_type": "code",
   "execution_count": 3,
   "metadata": {},
   "outputs": [],
   "source": [
    "#imports libraries that will be utilized\n",
    "import numpy as np\n",
    "import matplotlib.pyplot as plt\n",
    "import pandas as pd\n",
    "from pandas import DataFrame, Series\n",
    "import requests\n",
    "import scipy.stats as sts\n",
    "import scipy as spy\n",
    "import scipy.integrate as integrate\n",
    "import scipy.optimize as opt\n",
    "import random\n",
    "import numpy.linalg as lin\n",
    "import pickle as pkl\n",
    "import os"
   ]
  },
  {
   "cell_type": "code",
   "execution_count": 4,
   "metadata": {},
   "outputs": [],
   "source": [
    "#Loads Generators Stack\n",
    "#FuelTypes = HYDRO, GAS, WIND, NUCLEAR\n",
    "#HeatRate [BTU/kWh]\n",
    "#EmmisionRate [lb/MWh]\n",
    "\n",
    "SCC=36\n",
    "\n",
    "with open('GenStack0','rb') as f:\n",
    "    GenStack0 = pkl.load(f)\n",
    "    \n",
    "with open('GenStackCO2','rb') as f:\n",
    "    GenStackCO2 = pkl.load(f)\n",
    "    \n",
    "with open('LoadProfile','rb') as f:\n",
    "    LoadProfile = pkl.load(f)\n",
    "\n",
    "with open('HrNaturalGasPrices','rb') as f:\n",
    "    HrNaturalGasPrices = pkl.load(f)\n",
    "    \n",
    "with open('PSeries','rb') as f:\n",
    "    PSeries = pkl.load(f)\n",
    "    \n",
    "with open('Exchange','rb') as f:\n",
    "    Exchange = pkl.load(f)\n",
    "    \n"
   ]
  },
  {
   "cell_type": "code",
   "execution_count": 8,
   "metadata": {},
   "outputs": [
    {
     "name": "stdout",
     "output_type": "stream",
     "text": [
      "70365476.0079169\n",
      "0\n",
      "7656.320000000002\n"
     ]
    }
   ],
   "source": [
    "imports=0\n",
    "exports=0\n",
    "for i in range (0,len(Exchange)):\n",
    "    if Exchange[i]>0:\n",
    "        imports=imports+Exchange[i]\n",
    "    else:\n",
    "        exports=exports+Exchange[i]\n",
    "        \n",
    "print(imports)\n",
    "print(exports)\n",
    "print(np.max(Exchange))"
   ]
  },
  {
   "cell_type": "code",
   "execution_count": null,
   "metadata": {},
   "outputs": [],
   "source": []
  }
 ],
 "metadata": {
  "kernelspec": {
   "display_name": "Python 3",
   "language": "python",
   "name": "python3"
  },
  "language_info": {
   "codemirror_mode": {
    "name": "ipython",
    "version": 3
   },
   "file_extension": ".py",
   "mimetype": "text/x-python",
   "name": "python",
   "nbconvert_exporter": "python",
   "pygments_lexer": "ipython3",
   "version": "3.7.1"
  }
 },
 "nbformat": 4,
 "nbformat_minor": 2
}
